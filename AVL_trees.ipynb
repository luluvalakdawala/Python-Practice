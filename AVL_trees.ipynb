{
 "metadata": {
  "language_info": {
   "codemirror_mode": {
    "name": "ipython",
    "version": 3
   },
   "file_extension": ".py",
   "mimetype": "text/x-python",
   "name": "python",
   "nbconvert_exporter": "python",
   "pygments_lexer": "ipython3",
   "version": "3.7.6-final"
  },
  "orig_nbformat": 2,
  "kernelspec": {
   "name": "python3",
   "display_name": "Python 3"
  }
 },
 "nbformat": 4,
 "nbformat_minor": 2,
 "cells": [
  {
   "source": [
    "### AVL Binary Trees"
   ],
   "cell_type": "markdown",
   "metadata": {}
  },
  {
   "cell_type": "code",
   "execution_count": 1,
   "metadata": {},
   "outputs": [],
   "source": [
    "class Node:\n",
    "\n",
    "    def __init__(self, data, parent):\n",
    "        self.data = data\n",
    "        self.left_node = None\n",
    "        self.right_node = None\n",
    "        self.parent = parent\n",
    "        self.height = 0\n",
    "\n",
    "class AVLTree:\n",
    "\n",
    "    def __init__(self):\n",
    "        self.root = None\n",
    "\n",
    "    def insert(self, data):\n",
    "        if self.root is None:\n",
    "            self.root = Node(data, None)\n",
    "        else:\n",
    "            self.insert_node(data, self.root)\n",
    "    \n",
    "    def insert_node(self, data, node):\n",
    "        if data < node.data:\n",
    "            if node.left_node:\n",
    "                self.insert_node(data, node.left_node)\n",
    "            else:\n",
    "                node.left_node = Node(data, node)\n",
    "                node.height = max(self.calculate_height(node.left_node), self.calculate_height(node.right_node))+1\n",
    "        else:\n",
    "            if node.right_node:\n",
    "                self.insert_node(data, node.right_node)\n",
    "            else:\n",
    "                node.right_node = Node(data, node.right_node)\n",
    "                node.height = max(self.calculate_height(node.left_node), self.calculate_height(node.right_node))+1\n",
    "    \n",
    "    def calculate_height(self, node):\n",
    "        if node is None:\n",
    "            return -1\n",
    "        return node.height\n",
    "\n",
    "\n",
    "\n",
    "\n"
   ]
  },
  {
   "cell_type": "code",
   "execution_count": 2,
   "metadata": {},
   "outputs": [],
   "source": []
  },
  {
   "cell_type": "code",
   "execution_count": 4,
   "metadata": {},
   "outputs": [
    {
     "output_type": "stream",
     "name": "stdout",
     "text": [
      "\n       ____4___\n      /        \\\n  ___9__       _6___\n /      \\     /     \\\n10       7   13     _11\n  \\     /          /   \\\n   0   2          14    5\n\n"
     ]
    }
   ],
   "source": []
  },
  {
   "cell_type": "code",
   "execution_count": null,
   "metadata": {},
   "outputs": [],
   "source": []
  }
 ]
}