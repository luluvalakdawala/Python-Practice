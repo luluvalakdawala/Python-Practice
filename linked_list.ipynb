{
 "metadata": {
  "language_info": {
   "codemirror_mode": {
    "name": "ipython",
    "version": 3
   },
   "file_extension": ".py",
   "mimetype": "text/x-python",
   "name": "python",
   "nbconvert_exporter": "python",
   "pygments_lexer": "ipython3",
   "version": "3.8.1-final"
  },
  "orig_nbformat": 2,
  "kernelspec": {
   "name": "Python 3.8.1 64-bit ('oy-env': conda)",
   "display_name": "Python 3.8.1 64-bit ('oy-env': conda)",
   "metadata": {
    "interpreter": {
     "hash": "35fef6fcd16b643f04b102eb17a460cb40b627081bf635f7642eb6196bfb17d2"
    }
   }
  }
 },
 "nbformat": 4,
 "nbformat_minor": 2,
 "cells": [
  {
   "source": [
    "### Linked Lists"
   ],
   "cell_type": "markdown",
   "metadata": {}
  },
  {
   "cell_type": "code",
   "execution_count": 9,
   "metadata": {},
   "outputs": [],
   "source": [
    "class Node:\n",
    "\n",
    "    def __init__(self, data):\n",
    "        self.data = data\n",
    "        self.next_node = None\n",
    "\n",
    "class LinkedList:\n",
    "\n",
    "    def __init__(self):\n",
    "        self.head = None\n",
    "        self.num_of_nodes = 0\n",
    "\n",
    "    def insert_start(self, data):\n",
    "        self.num_of_nodes += 1\n",
    "        new_node = Node(data)\n",
    "\n",
    "        if not self.head:\n",
    "            self.head = new_node\n",
    "        else:\n",
    "            new_node.next_node = self.head\n",
    "            self.head = new_node\n",
    "\n",
    "    def insert_end(self, data):\n",
    "        self.num_of_nodes += 1\n",
    "        new_node = Node(data)\n",
    "\n",
    "        current_node = self.head\n",
    "\n",
    "        while current_node.next_node  is not None:\n",
    "            current_node = current_node.next_node\n",
    "\n",
    "        current_node.next_node = new_node\n",
    "\n",
    "    def size_of_list(self):\n",
    "        return self.num_of_nodes\n",
    "\n",
    "    def traverse(self):\n",
    "        current_node = self.head\n",
    "        while current_node is not None:\n",
    "            print(current_node.data)\n",
    "            current_node = current_node.next_node\n",
    "\n",
    "    def remove(self, data):\n",
    "        if self.head is None:\n",
    "            return\n",
    "\n",
    "        current_node = self.head\n",
    "        previous_node = None\n",
    "\n",
    "        while current_node is not None and current_node.data != data:\n",
    "            previous_node = current_node\n",
    "            current_node = current_node.next_node\n",
    "\n",
    "        if current_node is None:\n",
    "            return\n",
    "\n",
    "        self.num_of_nodes -= 1\n",
    "\n",
    "        if previous_node is None:\n",
    "            self.head = current_node.next_node\n",
    "        else:\n",
    "            previous_node.next_node = current_node.next_node\n"
   ]
  },
  {
   "cell_type": "code",
   "execution_count": 11,
   "metadata": {},
   "outputs": [
    {
     "output_type": "stream",
     "name": "stdout",
     "text": [
      "start\n1\n2\n3\n4\n5\n6\nend\n8\nstart\n1\n2\n3\n5\n6\nend\n"
     ]
    },
    {
     "output_type": "execute_result",
     "data": {
      "text/plain": [
       "7"
      ]
     },
     "metadata": {},
     "execution_count": 11
    }
   ],
   "source": [
    "linked_list = LinkedList()\n",
    "linked_list.insert_start(6)\n",
    "linked_list.insert_start(5)\n",
    "linked_list.insert_start(4)\n",
    "linked_list.insert_start(3)\n",
    "linked_list.insert_start(2)\n",
    "linked_list.insert_start(1)\n",
    "linked_list.insert_start('start')\n",
    "linked_list.insert_end('end')\n",
    "linked_list.traverse()\n",
    "print(linked_list.size_of_list())\n",
    "linked_list.remove(4)\n",
    "linked_list.traverse()\n",
    "linked_list.size_of_list()"
   ]
  }
 ]
}