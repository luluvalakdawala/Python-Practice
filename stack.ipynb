{
 "metadata": {
  "language_info": {
   "codemirror_mode": {
    "name": "ipython",
    "version": 3
   },
   "file_extension": ".py",
   "mimetype": "text/x-python",
   "name": "python",
   "nbconvert_exporter": "python",
   "pygments_lexer": "ipython3",
   "version": "3.8.1-final"
  },
  "orig_nbformat": 2,
  "kernelspec": {
   "name": "Python 3.8.1 64-bit",
   "display_name": "Python 3.8.1 64-bit",
   "metadata": {
    "interpreter": {
     "hash": "35fef6fcd16b643f04b102eb17a460cb40b627081bf635f7642eb6196bfb17d2"
    }
   }
  }
 },
 "nbformat": 4,
 "nbformat_minor": 2,
 "cells": [
  {
   "source": [
    "### Stack\n",
    "Conforms to the LIFO structure. Has 3 helper functions - push, pop, and peek\n",
    "\n",
    "- push() adds an element to the array\n",
    "- pop() removes the last element and prints it\n",
    "- peek() displays the last element in the array"
   ],
   "cell_type": "markdown",
   "metadata": {}
  },
  {
   "cell_type": "code",
   "execution_count": 1,
   "metadata": {},
   "outputs": [],
   "source": [
    "class Stack:\n",
    "    def __init__(self):\n",
    "        self.stack = []\n",
    "\n",
    "    # push to insert item at the end // O(1)\n",
    "    def push(self, data):\n",
    "        self.stack.append(data)\n",
    "    \n",
    "    # pop to remove the last item and print the removed item // O(1)\n",
    "    def pop(self):\n",
    "        if not self.stack:\n",
    "            return -1\n",
    "\n",
    "        data = self.stack[-1]\n",
    "        del self.stack[-1]\n",
    "        return data\n",
    "        \n",
    "    # look up the last item in the stack without removing it // O(1)\n",
    "    def peek(self):\n",
    "        return self.stack[-1]\n",
    "\n",
    "    def is_empty(self):\n",
    "        return self.stack == []\n",
    "\n",
    "    def stack_size(self):\n",
    "        return len(self.stack)"
   ]
  },
  {
   "cell_type": "code",
   "execution_count": 4,
   "metadata": {},
   "outputs": [
    {
     "output_type": "stream",
     "name": "stdout",
     "text": [
      "Size of stack: 3\nSize of stack: 2\n1\nSize of stack: 2\n1\nSize of stack: 0\n-1\nSize of stack: 0\n"
     ]
    }
   ],
   "source": [
    "stack = Stack()\n",
    "stack.push(1)\n",
    "stack.push(1)\n",
    "stack.push(1)\n",
    "print('Size of stack: {}'.format(stack.stack_size()))\n",
    "stack.pop()\n",
    "print('Size of stack: {}'.format(stack.stack_size()))\n",
    "print(stack.peek())\n",
    "print('Size of stack: {}'.format(stack.stack_size()))\n",
    "print(stack.pop())\n",
    "stack.pop()\n",
    "print('Size of stack: {}'.format(stack.stack_size()))\n",
    "stack.pop()\n",
    "print(stack.pop())\n",
    "print('Size of stack: {}'.format(stack.stack_size()))"
   ]
  },
  {
   "source": [
    "### Queue\n",
    "\n",
    "Follows the FIFO structure with 3 main helper functions - enqueue, dequeue, and peek\n",
    "\n",
    "- enqueue() adds an element to the array\n",
    "- dequeue() removes the first element in the array and prints it\n",
    "- peek() displays the last element in the array\n",
    "\n"
   ],
   "cell_type": "markdown",
   "metadata": {}
  },
  {
   "cell_type": "code",
   "execution_count": null,
   "metadata": {},
   "outputs": [],
   "source": [
    "class Queue:\n",
    "    "
   ]
  }
 ]
}