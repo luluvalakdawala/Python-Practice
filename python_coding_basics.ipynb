{
 "cells": [
  {
   "cell_type": "markdown",
   "metadata": {},
   "source": [
    "### [Ternary Operators](https://book.pythontips.com/en/latest/ternary_operators.html)\n",
    "Ternary operators are more commonly known as conditional expressions in Python. These operators evaluate something based on a condition being true or not. \n",
    "\n",
    "\n",
    "\n",
    "``` bash\n",
    "Blueprint:\n",
    "value_if_true if condition else value_if_false\n",
    "\n",
    "\n",
    "\n",
    "Example:\n",
    "\n",
    "is_nice = True\n",
    "state = \"nice\" if is_nice else \"not nice\"\n",
    "```"
   ]
  },
  {
   "cell_type": "markdown",
   "metadata": {},
   "source": [
    "#### [Task](https://www.hackerrank.com/challenges/30-conditional-statements/problem)\n",
    "Given an integer,*n*, perform the following conditional actions:\n",
    "\n",
    "- If *n* is odd, print Weird\n",
    "- If *n* is even and in the inclusive range of 2 to 5, print Not Weird\n",
    "- If *n* is even and in the inclusive range of 6 to 20, print Weird\n",
    "- If *n* is even and greater than 20, print Not Weird\n",
    "Complete the stub code provided in your editor to print whether or not  is weird."
   ]
  },
  {
   "cell_type": "code",
   "execution_count": 3,
   "metadata": {},
   "outputs": [
    {
     "name": "stdin",
     "output_type": "stream",
     "text": [
      " 24\n"
     ]
    },
    {
     "name": "stdout",
     "output_type": "stream",
     "text": [
      "Not Weird\n"
     ]
    }
   ],
   "source": [
    "n = int(input())\n",
    "print('Weird' if n % 2 or (5 < n < 21) else 'Not Weird') #example of ternary operator"
   ]
  },
  {
   "cell_type": "markdown",
   "metadata": {},
   "source": [
    "### Class vs. Instance"
   ]
  },
  {
   "cell_type": "code",
   "execution_count": null,
   "metadata": {},
   "outputs": [],
   "source": []
  },
  {
   "cell_type": "code",
   "execution_count": null,
   "metadata": {},
   "outputs": [],
   "source": []
  }
 ],
 "metadata": {
  "kernelspec": {
   "display_name": "Python 3",
   "language": "python",
   "name": "python3"
  },
  "language_info": {
   "codemirror_mode": {
    "name": "ipython",
    "version": 3
   },
   "file_extension": ".py",
   "mimetype": "text/x-python",
   "name": "python",
   "nbconvert_exporter": "python",
   "pygments_lexer": "ipython3",
   "version": "3.7.7"
  }
 },
 "nbformat": 4,
 "nbformat_minor": 4
}
