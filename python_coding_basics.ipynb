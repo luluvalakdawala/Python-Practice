{
 "cells": [
  {
   "cell_type": "markdown",
   "metadata": {},
   "source": [
    "### [Ternary Operators](https://book.pythontips.com/en/latest/ternary_operators.html)\n",
    "Ternary operators are more commonly known as conditional expressions in Python. These operators evaluate something based on a condition being true or not. \n",
    "\n",
    "\n",
    "\n",
    "```python\n",
    "Blueprint:\n",
    "\"value_if_true\" if condition else \"value_if_false\"\n",
    "\n",
    "\n",
    "\n",
    "Example:\n",
    "\n",
    "is_nice = True\n",
    "state = \"nice\" if is_nice else \"not nice\"\n",
    "```"
   ]
  },
  {
   "cell_type": "markdown",
   "metadata": {},
   "source": [
    "#### [Task](https://www.hackerrank.com/challenges/30-conditional-statements/problem)\n",
    "Given an integer,***n***, perform the following conditional actions:\n",
    "\n",
    "- If ***n*** is odd, print ***Weird***\n",
    "- If ***n*** is even and in the inclusive range of 2 to 5, print Not ***Weird***\n",
    "- If ***n*** is even and in the inclusive range of 6 to 20, print ***Weird***\n",
    "- If ***n*** is even and greater than 20, print ***Not Weird***"
   ]
  },
  {
   "cell_type": "code",
   "execution_count": 3,
   "metadata": {},
   "outputs": [
    {
     "name": "stdin",
     "output_type": "stream",
     "text": [
      " 24\n"
     ]
    },
    {
     "name": "stdout",
     "output_type": "stream",
     "text": [
      "Not Weird\n"
     ]
    }
   ],
   "source": [
    "n = int(input())\n",
    "print('Weird' if n % 2 or (5 < n < 21) else 'Not Weird') #example of ternary operator"
   ]
  },
  {
   "cell_type": "markdown",
   "metadata": {},
   "source": [
    "### [Class vs. Instance](https://github.com/luluvalakdawala/dsc-object-oriented-attributes-with-functions-lab-sea01-dtsc-ft-051120)\n",
    "*look into the school.py file*\n",
    "\n",
    "#### [Task](https://www.hackerrank.com/challenges/30-class-vs-instance/problem)\n",
    "Write a Person class with an instance variable,***age*** , and a constructor that takes an integer,***initialAge*** , as a parameter. The constructor must assign ***initialAge*** to ***age*** after confirming the argument passed as ***initialAge*** is not negative; if a negative argument is passed as ***initialAge***, the constructor should set ***age*** to ***0*** and print ***Age is not valid, setting age to 0.***. In addition, you must write the following instance methods:\n",
    "\n",
    "1) yearPasses() should increase the ***age*** instance variable by ***1***.\n",
    "\n",
    "2) amIOld() should perform the following conditional actions:\n",
    "- If ***age<13***, print ***You are young.***.\n",
    "- If ***age$\\geq$13*** and ***age<18***, print ***You are a teenager.***.\n",
    "- Otherwise, print ***You are old.***."
   ]
  },
  {
   "cell_type": "code",
   "execution_count": 1,
   "metadata": {},
   "outputs": [],
   "source": [
    "class Person:\n",
    "    def __init__(self, initialAge):\n",
    "        self.age = 0\n",
    "        if initialAge < 0:\n",
    "            print('Age is not valid, setting age to 0')\n",
    "        else:\n",
    "            self.age = initialAge\n",
    "        \n",
    "    def yearPasses(self):\n",
    "        self.age += 1\n",
    "    \n",
    "    def amIOld(self):\n",
    "        if self.age < 13:\n",
    "            print('You are young.')\n",
    "        elif 13<= self.age < 18:\n",
    "            print('You are a teenager.')\n",
    "        else:\n",
    "            print('You are old.')\n",
    "            "
   ]
  },
  {
   "cell_type": "code",
   "execution_count": 2,
   "metadata": {},
   "outputs": [
    {
     "name": "stdin",
     "output_type": "stream",
     "text": [
      " 2\n",
      " 11\n"
     ]
    },
    {
     "name": "stdout",
     "output_type": "stream",
     "text": [
      "You are young.\n",
      "You are a teenager.\n",
      "\n"
     ]
    },
    {
     "name": "stdin",
     "output_type": "stream",
     "text": [
      " 15\n"
     ]
    },
    {
     "name": "stdout",
     "output_type": "stream",
     "text": [
      "You are a teenager.\n",
      "You are old.\n",
      "\n"
     ]
    }
   ],
   "source": [
    "#setting up test case here:\n",
    "# t = number of cases\n",
    "t = int(input())\n",
    "# enter inititalAge t-times\n",
    "for i in range(0, t):\n",
    "    age = int(input())         \n",
    "    p = Person(age)  \n",
    "    p.amIOld()\n",
    "    #lapse of three years, age increses\n",
    "    for j in range(0, 3):\n",
    "        p.yearPasses()       \n",
    "    p.amIOld()\n",
    "    print(\"\")"
   ]
  },
  {
   "cell_type": "markdown",
   "metadata": {},
   "source": [
    "### [Inheritance](https://www.w3schools.com/python/python_inheritance.asp)\n",
    "\n",
    "\n",
    "#### [Task](https://www.hackerrank.com/challenges/30-inheritance/problem)\n",
    "You are given two classes, Person and Student, where Person is the base class and Student is the derived class. Completed code for Person and a declaration for Student are provided for you in the editor. Observe that Student inherits all the properties of Person.\n",
    "\n",
    "Complete the Student class by writing the following:\n",
    "\n",
    "A Student class constructor, which has ***4*** parameters:\n",
    "A string, ***firstName***.\n",
    "A string, ***lastName***.\n",
    "An integer, ***id***.\n",
    "An integer array (or vector) of test scores, ***scores***.\n",
    "A calculate() method that calculates a Student object's average and returns the grade character representative of their calculated average:\n",
    "\n",
    "\n",
    "\n",
    "| Letter |       Average(a)     |\n",
    "|:------:|:--------------------:|\n",
    "|    O   |90 $\\leq$ a $\\leq$ 100|\n",
    "|    E   |   80 $\\leq$ a < 90   |\n",
    "|    A   |   70 $\\leq$ a < 80   |\n",
    "|    P   |   55 $\\leq$ a < 70   |\n",
    "|    D   |   40 $\\leq$ a < 55   |\n",
    "|    T   |           a < 40     |\n"
   ]
  },
  {
   "cell_type": "code",
   "execution_count": 3,
   "metadata": {},
   "outputs": [],
   "source": [
    "class Person: #parent class\n",
    "    def __init__(self, firstName, lastName, idNumber):\n",
    "        self.firstName = firstName\n",
    "        self.lastName = lastName\n",
    "        self.idNumber = idNumber\n",
    "    def printPerson(self):\n",
    "        print(\"Name:\", self.lastName + \",\", self.firstName)\n",
    "        print(\"ID:\", self.idNumber)\n",
    "\n",
    "class Student(Person): #child class, notice parent is passed as an argument\n",
    "    def __init__(self, firstName, lastName, idNumber, scores): #include parameters to mimic parent class +any spcific to child class\n",
    "        super().__init__(firstName, lastName, idNumber) #include same parameters as the parent class\n",
    "        self.scores = scores\n",
    "\n",
    "    #claculate() method for ascertaining student grade\n",
    "    def calculate(self):\n",
    "        score = sum(self.scores)/len(self.scores)\n",
    "        if 90 <= score <= 100:\n",
    "            return 'O'\n",
    "        elif 80 <= score:\n",
    "            return 'E'\n",
    "        elif 70 <= score:\n",
    "            return 'A'\n",
    "        elif 55<= score:\n",
    "            return 'P'\n",
    "        elif 40 <= score:\n",
    "            return 'D'\n",
    "        else:\n",
    "            return 'T'   "
   ]
  },
  {
   "cell_type": "code",
   "execution_count": 4,
   "metadata": {},
   "outputs": [
    {
     "name": "stdin",
     "output_type": "stream",
     "text": [
      " Heraldo Memelli 8135627\n",
      " 2\n",
      " 100 80\n"
     ]
    },
    {
     "name": "stdout",
     "output_type": "stream",
     "text": [
      "Name: Memelli, Heraldo\n",
      "ID: 8135627\n",
      "Grade: O\n"
     ]
    }
   ],
   "source": [
    "#for testing code\n",
    "#Sample Input:\n",
    "#Heraldo Memelli 8135627\n",
    "#2\n",
    "#100 80\n",
    "line = input().split()\n",
    "firstName = line[0]\n",
    "lastName = line[1]\n",
    "idNum = line[2]\n",
    "numScores = int(input()) # not needed for Python\n",
    "scores = list( map(int, input().split()) )\n",
    "s = Student(firstName, lastName, idNum, scores)\n",
    "s.printPerson()\n",
    "print(\"Grade:\", s.calculate())\n",
    "\n",
    "#expected Output:\n",
    "#Name: Memelli, Heraldo\n",
    "#ID: 8135627\n",
    "#Grade: O"
   ]
  },
  {
   "cell_type": "markdown",
   "metadata": {},
   "source": [
    "### [Sorting](https://www.programiz.com/python-programming/methods/built-in/sorted)\n",
    "One of the easiest things to do in python with the built in functions sort() and sorted() however, here is a task involving manual sorting of a list.\n",
    "\n",
    "#### [Task](https://www.hackerrank.com/challenges/30-sorting/problem)\n",
    "Given an array, ***a***, of size ***n*** distinct elements, sort the array in ascending order using the [Bubble Sort](https://www.geeksforgeeks.org/bubble-sort/) algorithm. Once sorted, print the following ***3*** lines:\n",
    "\n",
    "1)Array is sorted in numSwaps swaps.\n",
    "where ***numSwaps*** is the number of swaps that took place.\n",
    "\n",
    "2)First Element: firstElement\n",
    "where ***firstElement*** is the first element in the sorted array.\n",
    "\n",
    "3)Last Element: lastElement\n",
    "where ***lastElement*** is the last element in the sorted array."
   ]
  },
  {
   "cell_type": "code",
   "execution_count": 10,
   "metadata": {},
   "outputs": [
    {
     "name": "stdin",
     "output_type": "stream",
     "text": [
      " 3\n",
      " 3 2 1\n"
     ]
    },
    {
     "name": "stdout",
     "output_type": "stream",
     "text": [
      "Array is sorted in 3 swaps.\n",
      "First Element: 1\n",
      "Last Element: 3\n"
     ]
    }
   ],
   "source": [
    "n = int(input().strip())\n",
    "a = list(map(int, input().strip().split(' ')))\n",
    "\n",
    "swaps = 0\n",
    "cycles = n - 1\n",
    "for i in range(cycles):\n",
    "    for j in range(n - 1):\n",
    "        if a[j] > a[j+1]:\n",
    "            a[j], a[j+1] = a[j+1], a[j]\n",
    "            swaps += 1\n",
    "print('Array is sorted in {} swaps.'.format(swaps))\n",
    "print('First Element: {}'.format(a[0]))\n",
    "print('Last Element: {}'.format(a[-1]))\n",
    "\n",
    "# sample input:\n",
    "# 3\n",
    "# 3 2 1\n",
    "# output:\n",
    "# Array is sorted in 3 swaps.\n",
    "# First Element: 1\n",
    "# Last Element: 3"
   ]
  },
  {
   "cell_type": "code",
   "execution_count": 6,
   "metadata": {},
   "outputs": [
    {
     "name": "stdin",
     "output_type": "stream",
     "text": [
      " 4\n",
      " 3 2 5 6\n"
     ]
    },
    {
     "name": "stdout",
     "output_type": "stream",
     "text": [
      "Array is sorted in 1 swaps.\n",
      "First Element: 2\n",
      "Last Element: 6\n"
     ]
    }
   ],
   "source": [
    "n = int(input().strip())\n",
    "a = list(map(int, input().strip().split(' ')))\n",
    "#trying a different method using while and break \n",
    "swaps = 0\n",
    "not_sorted  = True\n",
    "while not_sorted:\n",
    "    for i in range(n-1):\n",
    "        if a[i] > a[i+1]:\n",
    "            swaps += 1\n",
    "            a[i], a[i+1] = a[i+1], a[i]\n",
    "            break\n",
    "        if i == n-2:\n",
    "            not_sorted = False\n",
    "            \n",
    "print('Array is sorted in {} swaps.'.format(swaps))\n",
    "print('First Element: {}'.format(a[0]))\n",
    "print('Last Element: {}'.format(a[-1]))"
   ]
  },
  {
   "cell_type": "code",
   "execution_count": 9,
   "metadata": {},
   "outputs": [
    {
     "name": "stdin",
     "output_type": "stream",
     "text": [
      " 5\n",
      " 5 23 9 4 9\n"
     ]
    },
    {
     "name": "stdout",
     "output_type": "stream",
     "text": [
      "Array is sorted in 5 swaps.\n",
      "First Element: 4\n",
      "Last Element: 23\n"
     ]
    }
   ],
   "source": [
    "#yet another slightly different from above\n",
    "n = int(input().strip())\n",
    "a = list(map(int, input().strip().split(' ')))\n",
    "\n",
    "swaps = 0\n",
    "while True:\n",
    "    for i in range(n-1):\n",
    "        if a[i] > a[i+1]:\n",
    "            swaps += 1\n",
    "            a[i], a[i+1] = a[i+1], a[i]\n",
    "            break\n",
    "    else:\n",
    "        break\n",
    "print('Array is sorted in {} swaps.'.format(swaps))\n",
    "print('First Element: {}'.format(a[0]))\n",
    "print('Last Element: {}'.format(a[-1]))"
   ]
  },
  {
   "cell_type": "markdown",
   "metadata": {},
   "source": [
    "### Find Pairs\n",
    "\n",
    "#### [Task](https://www.hackerrank.com/challenges/30-sorting/problem)\n",
    "Given an array, ***a***, find the pairs of numbers that are additive inverses (the sum of the pairs adds to zero):\n",
    "\n",
    "input: \n",
    "``` python\n",
    "a = [1,5,3,7,2,-2,-1,2,-3]\n",
    "```\n",
    "output:\n",
    "``` python\n",
    "[(1,-1), (3,-3), (2,-2)]\n",
    "```"
   ]
  },
  {
   "cell_type": "code",
   "execution_count": 4,
   "metadata": {},
   "outputs": [
    {
     "data": {
      "text/plain": [
       "[(3, -3), (2, -2), (1, -1)]"
      ]
     },
     "execution_count": 4,
     "metadata": {},
     "output_type": "execute_result"
    }
   ],
   "source": [
    "a =[1,5,-3,7,2,-2,-1,2,3]\n",
    "a_copy = a.copy()\n",
    "a_copy.sort()\n",
    "a_copy.reverse()\n",
    "pairs = []\n",
    "for i in range(len(a_copy)):\n",
    "    for j in a_copy[i:]:\n",
    "        if a_copy[i] == - (j):\n",
    "            pairs.append((a_copy[i], j))\n",
    "            a_copy.remove(j)\n",
    "            break\n",
    "pairs  "
   ]
  },
  {
   "cell_type": "code",
   "execution_count": 1,
   "metadata": {},
   "outputs": [
    {
     "name": "stdout",
     "output_type": "stream",
     "text": [
      "Help on class list in module builtins:\n",
      "\n",
      "class list(object)\n",
      " |  list() -> new empty list\n",
      " |  list(iterable) -> new list initialized from iterable's items\n",
      " |  \n",
      " |  Methods defined here:\n",
      " |  \n",
      " |  __add__(self, value, /)\n",
      " |      Return self+value.\n",
      " |  \n",
      " |  __contains__(self, key, /)\n",
      " |      Return key in self.\n",
      " |  \n",
      " |  __delitem__(self, key, /)\n",
      " |      Delete self[key].\n",
      " |  \n",
      " |  __eq__(self, value, /)\n",
      " |      Return self==value.\n",
      " |  \n",
      " |  __ge__(self, value, /)\n",
      " |      Return self>=value.\n",
      " |  \n",
      " |  __getattribute__(self, name, /)\n",
      " |      Return getattr(self, name).\n",
      " |  \n",
      " |  __getitem__(...)\n",
      " |      x.__getitem__(y) <==> x[y]\n",
      " |  \n",
      " |  __gt__(self, value, /)\n",
      " |      Return self>value.\n",
      " |  \n",
      " |  __iadd__(self, value, /)\n",
      " |      Implement self+=value.\n",
      " |  \n",
      " |  __imul__(self, value, /)\n",
      " |      Implement self*=value.\n",
      " |  \n",
      " |  __init__(self, /, *args, **kwargs)\n",
      " |      Initialize self.  See help(type(self)) for accurate signature.\n",
      " |  \n",
      " |  __iter__(self, /)\n",
      " |      Implement iter(self).\n",
      " |  \n",
      " |  __le__(self, value, /)\n",
      " |      Return self<=value.\n",
      " |  \n",
      " |  __len__(self, /)\n",
      " |      Return len(self).\n",
      " |  \n",
      " |  __lt__(self, value, /)\n",
      " |      Return self<value.\n",
      " |  \n",
      " |  __mul__(self, value, /)\n",
      " |      Return self*value.\n",
      " |  \n",
      " |  __ne__(self, value, /)\n",
      " |      Return self!=value.\n",
      " |  \n",
      " |  __new__(*args, **kwargs) from builtins.type\n",
      " |      Create and return a new object.  See help(type) for accurate signature.\n",
      " |  \n",
      " |  __repr__(self, /)\n",
      " |      Return repr(self).\n",
      " |  \n",
      " |  __reversed__(...)\n",
      " |      L.__reversed__() -- return a reverse iterator over the list\n",
      " |  \n",
      " |  __rmul__(self, value, /)\n",
      " |      Return value*self.\n",
      " |  \n",
      " |  __setitem__(self, key, value, /)\n",
      " |      Set self[key] to value.\n",
      " |  \n",
      " |  __sizeof__(...)\n",
      " |      L.__sizeof__() -- size of L in memory, in bytes\n",
      " |  \n",
      " |  append(...)\n",
      " |      L.append(object) -> None -- append object to end\n",
      " |  \n",
      " |  clear(...)\n",
      " |      L.clear() -> None -- remove all items from L\n",
      " |  \n",
      " |  copy(...)\n",
      " |      L.copy() -> list -- a shallow copy of L\n",
      " |  \n",
      " |  count(...)\n",
      " |      L.count(value) -> integer -- return number of occurrences of value\n",
      " |  \n",
      " |  extend(...)\n",
      " |      L.extend(iterable) -> None -- extend list by appending elements from the iterable\n",
      " |  \n",
      " |  index(...)\n",
      " |      L.index(value, [start, [stop]]) -> integer -- return first index of value.\n",
      " |      Raises ValueError if the value is not present.\n",
      " |  \n",
      " |  insert(...)\n",
      " |      L.insert(index, object) -- insert object before index\n",
      " |  \n",
      " |  pop(...)\n",
      " |      L.pop([index]) -> item -- remove and return item at index (default last).\n",
      " |      Raises IndexError if list is empty or index is out of range.\n",
      " |  \n",
      " |  remove(...)\n",
      " |      L.remove(value) -> None -- remove first occurrence of value.\n",
      " |      Raises ValueError if the value is not present.\n",
      " |  \n",
      " |  reverse(...)\n",
      " |      L.reverse() -- reverse *IN PLACE*\n",
      " |  \n",
      " |  sort(...)\n",
      " |      L.sort(key=None, reverse=False) -> None -- stable sort *IN PLACE*\n",
      " |  \n",
      " |  ----------------------------------------------------------------------\n",
      " |  Data and other attributes defined here:\n",
      " |  \n",
      " |  __hash__ = None\n",
      "\n"
     ]
    }
   ],
   "source": [
    "help(list)"
   ]
  },
  {
   "cell_type": "code",
   "execution_count": null,
   "metadata": {},
   "outputs": [],
   "source": []
  }
 ],
 "metadata": {
  "kernelspec": {
   "display_name": "Python 3",
   "language": "python",
   "name": "python3"
  },
  "language_info": {
   "codemirror_mode": {
    "name": "ipython",
    "version": 3
   },
   "file_extension": ".py",
   "mimetype": "text/x-python",
   "name": "python",
   "nbconvert_exporter": "python",
   "pygments_lexer": "ipython3",
   "version": "3.6.9"
  }
 },
 "nbformat": 4,
 "nbformat_minor": 4
}
