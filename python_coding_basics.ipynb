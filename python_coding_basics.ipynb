{
 "cells": [
  {
   "cell_type": "markdown",
   "metadata": {},
   "source": [
    "### [Ternary Operators](https://book.pythontips.com/en/latest/ternary_operators.html)\n",
    "Ternary operators are more commonly known as conditional expressions in Python. These operators evaluate something based on a condition being true or not. \n",
    "\n",
    "\n",
    "\n",
    "```python\n",
    "Blueprint:\n",
    "\"value_if_true\" if condition else \"value_if_false\"\n",
    "\n",
    "\n",
    "\n",
    "Example:\n",
    "\n",
    "is_nice = True\n",
    "state = \"nice\" if is_nice else \"not nice\"\n",
    "```"
   ]
  },
  {
   "cell_type": "markdown",
   "metadata": {},
   "source": [
    "#### [Task](https://www.hackerrank.com/challenges/30-conditional-statements/problem)\n",
    "Given an integer,***n***, perform the following conditional actions:\n",
    "\n",
    "- If ***n*** is odd, print ***Weird***\n",
    "- If ***n*** is even and in the inclusive range of 2 to 5, print Not ***Weird***\n",
    "- If ***n*** is even and in the inclusive range of 6 to 20, print ***Weird***\n",
    "- If ***n*** is even and greater than 20, print ***Not Weird***"
   ]
  },
  {
   "cell_type": "code",
   "execution_count": 3,
   "metadata": {},
   "outputs": [
    {
     "name": "stdin",
     "output_type": "stream",
     "text": [
      " 24\n"
     ]
    },
    {
     "name": "stdout",
     "output_type": "stream",
     "text": [
      "Not Weird\n"
     ]
    }
   ],
   "source": [
    "n = int(input())\n",
    "print('Weird' if n % 2 or (5 < n < 21) else 'Not Weird') #example of ternary operator"
   ]
  },
  {
   "cell_type": "markdown",
   "metadata": {},
   "source": [
    "### [Class vs. Instance](https://github.com/luluvalakdawala/dsc-object-oriented-attributes-with-functions-lab-sea01-dtsc-ft-051120)\n",
    "*look into the school.py file*\n",
    "\n",
    "#### [Task](https://www.hackerrank.com/challenges/30-class-vs-instance/problem)\n",
    "Write a Person class with an instance variable,***age*** , and a constructor that takes an integer,***initialAge*** , as a parameter. The constructor must assign ***initialAge*** to ***age*** after confirming the argument passed as ***initialAge*** is not negative; if a negative argument is passed as ***initialAge***, the constructor should set ***age*** to ***0*** and print ***Age is not valid, setting age to 0.***. In addition, you must write the following instance methods:\n",
    "\n",
    "1) yearPasses() should increase the ***age*** instance variable by ***1***.\n",
    "\n",
    "2) amIOld() should perform the following conditional actions:\n",
    "- If ***age<13***, print ***You are young.***.\n",
    "- If ***age$\\geq$13*** and ***age<18***, print ***You are a teenager.***.\n",
    "- Otherwise, print ***You are old.***."
   ]
  },
  {
   "cell_type": "code",
   "execution_count": 1,
   "metadata": {},
   "outputs": [],
   "source": [
    "class Person:\n",
    "    def __init__(self, initialAge):\n",
    "        self.age = 0\n",
    "        if initialAge < 0:\n",
    "            print('Age is not valid, setting age to 0')\n",
    "        else:\n",
    "            self.age = initialAge\n",
    "        \n",
    "    def yearPasses(self):\n",
    "        self.age += 1\n",
    "    \n",
    "    def amIOld(self):\n",
    "        if self.age < 13:\n",
    "            print('You are young.')\n",
    "        elif 13<= self.age < 18:\n",
    "            print('You are a teenager.')\n",
    "        else:\n",
    "            print('You are old.')\n",
    "            "
   ]
  },
  {
   "cell_type": "code",
   "execution_count": 2,
   "metadata": {},
   "outputs": [
    {
     "name": "stdin",
     "output_type": "stream",
     "text": [
      " 2\n",
      " 11\n"
     ]
    },
    {
     "name": "stdout",
     "output_type": "stream",
     "text": [
      "You are young.\n",
      "You are a teenager.\n",
      "\n"
     ]
    },
    {
     "name": "stdin",
     "output_type": "stream",
     "text": [
      " 15\n"
     ]
    },
    {
     "name": "stdout",
     "output_type": "stream",
     "text": [
      "You are a teenager.\n",
      "You are old.\n",
      "\n"
     ]
    }
   ],
   "source": [
    "#setting up test case here:\n",
    "# t = number of cases\n",
    "t = int(input())\n",
    "# enter inititalAge t-times\n",
    "for i in range(0, t):\n",
    "    age = int(input())         \n",
    "    p = Person(age)  \n",
    "    p.amIOld()\n",
    "    #lapse of three years, age increses\n",
    "    for j in range(0, 3):\n",
    "        p.yearPasses()       \n",
    "    p.amIOld()\n",
    "    print(\"\")"
   ]
  },
  {
   "cell_type": "markdown",
   "metadata": {},
   "source": [
    "### [Inheritance](https://www.w3schools.com/python/python_inheritance.asp)\n",
    "\n",
    "\n",
    "#### [Task](https://www.hackerrank.com/challenges/30-inheritance/problem)\n",
    "You are given two classes, Person and Student, where Person is the base class and Student is the derived class. Completed code for Person and a declaration for Student are provided for you in the editor. Observe that Student inherits all the properties of Person.\n",
    "\n",
    "Complete the Student class by writing the following:\n",
    "\n",
    "A Student class constructor, which has ***4*** parameters:\n",
    "A string, ***firstName***.\n",
    "A string, ***lastName***.\n",
    "An integer, ***id***.\n",
    "An integer array (or vector) of test scores, ***scores***.\n",
    "A calculate() method that calculates a Student object's average and returns the grade character representative of their calculated average:\n",
    "\n",
    "\n",
    "\n",
    "| Letter |       Average(a)     |\n",
    "|:------:|:--------------------:|\n",
    "|    O   |90 $\\leq$ a $\\leq$ 100|\n",
    "|    E   |   80 $\\leq$ a < 90   |\n",
    "|    A   |   70 $\\leq$ a < 80   |\n",
    "|    P   |   55 $\\leq$ a < 70   |\n",
    "|    D   |   40 $\\leq$ a < 55   |\n",
    "|    T   |           a < 40     |\n"
   ]
  },
  {
   "cell_type": "code",
   "execution_count": 3,
   "metadata": {},
   "outputs": [],
   "source": [
    "class Person: #parent class\n",
    "    def __init__(self, firstName, lastName, idNumber):\n",
    "        self.firstName = firstName\n",
    "        self.lastName = lastName\n",
    "        self.idNumber = idNumber\n",
    "    def printPerson(self):\n",
    "        print(\"Name:\", self.lastName + \",\", self.firstName)\n",
    "        print(\"ID:\", self.idNumber)\n",
    "\n",
    "class Student(Person): #child class, notice parent is passed as an argument\n",
    "    def __init__(self, firstName, lastName, idNumber, scores): #include parameters to mimic parent class +any spcific to child class\n",
    "        super().__init__(firstName, lastName, idNumber) #include same parameters as the parent class\n",
    "        self.scores = scores\n",
    "\n",
    "    #claculate() method for ascertaining student grade\n",
    "    def calculate(self):\n",
    "        score = sum(self.scores)/len(self.scores)\n",
    "        if 90 <= score <= 100:\n",
    "            return 'O'\n",
    "        elif 80 <= score:\n",
    "            return 'E'\n",
    "        elif 70 <= score:\n",
    "            return 'A'\n",
    "        elif 55<= score:\n",
    "            return 'P'\n",
    "        elif 40 <= score:\n",
    "            return 'D'\n",
    "        else:\n",
    "            return 'T'   "
   ]
  },
  {
   "cell_type": "code",
   "execution_count": 4,
   "metadata": {},
   "outputs": [
    {
     "name": "stdin",
     "output_type": "stream",
     "text": [
      " Heraldo Memelli 8135627\n",
      " 2\n",
      " 100 80\n"
     ]
    },
    {
     "name": "stdout",
     "output_type": "stream",
     "text": [
      "Name: Memelli, Heraldo\n",
      "ID: 8135627\n",
      "Grade: O\n"
     ]
    }
   ],
   "source": [
    "#for testing code\n",
    "#Sample Input:\n",
    "#Heraldo Memelli 8135627\n",
    "#2\n",
    "#100 80\n",
    "line = input().split()\n",
    "firstName = line[0]\n",
    "lastName = line[1]\n",
    "idNum = line[2]\n",
    "numScores = int(input()) # not needed for Python\n",
    "scores = list( map(int, input().split()) )\n",
    "s = Student(firstName, lastName, idNum, scores)\n",
    "s.printPerson()\n",
    "print(\"Grade:\", s.calculate())\n",
    "\n",
    "#expected Output:\n",
    "#Name: Memelli, Heraldo\n",
    "#ID: 8135627\n",
    "#Grade: O"
   ]
  },
  {
   "cell_type": "markdown",
   "metadata": {},
   "source": [
    "### [Sorting](https://www.programiz.com/python-programming/methods/built-in/sorted)\n",
    "One of the easiest things to do in python with the built in functions sort() and sorted() however, here is a task involving manual sorting of a list.\n",
    "\n",
    "#### [Task](https://www.hackerrank.com/challenges/30-sorting/problem)\n",
    "Given an array, ***a***, of size ***n*** distinct elements, sort the array in ascending order using the [Bubble Sort](https://www.geeksforgeeks.org/bubble-sort/) algorithm. Once sorted, print the following ***3*** lines:\n",
    "\n",
    "1)Array is sorted in numSwaps swaps.\n",
    "where ***numSwaps*** is the number of swaps that took place.\n",
    "\n",
    "2)First Element: firstElement\n",
    "where ***firstElement*** is the first element in the sorted array.\n",
    "\n",
    "3)Last Element: lastElement\n",
    "where ***lastElement*** is the last element in the sorted array."
   ]
  },
  {
   "cell_type": "code",
   "execution_count": 10,
   "metadata": {},
   "outputs": [
    {
     "name": "stdin",
     "output_type": "stream",
     "text": [
      " 3\n",
      " 3 2 1\n"
     ]
    },
    {
     "name": "stdout",
     "output_type": "stream",
     "text": [
      "Array is sorted in 3 swaps.\n",
      "First Element: 1\n",
      "Last Element: 3\n"
     ]
    }
   ],
   "source": [
    "n = int(input().strip())\n",
    "a = list(map(int, input().strip().split(' ')))\n",
    "\n",
    "swaps = 0\n",
    "cycles = n - 1\n",
    "for i in range(cycles):\n",
    "    for j in range(n - 1):\n",
    "        if a[j] > a[j+1]:\n",
    "            a[j], a[j+1] = a[j+1], a[j]\n",
    "            swaps += 1\n",
    "print('Array is sorted in {} swaps.'.format(swaps))\n",
    "print('First Element: {}'.format(a[0]))\n",
    "print('Last Element: {}'.format(a[-1]))\n",
    "\n",
    "# sample input:\n",
    "# 3\n",
    "# 3 2 1\n",
    "# output:\n",
    "# Array is sorted in 3 swaps.\n",
    "# First Element: 1\n",
    "# Last Element: 3"
   ]
  },
  {
   "cell_type": "code",
   "execution_count": 6,
   "metadata": {},
   "outputs": [
    {
     "name": "stdin",
     "output_type": "stream",
     "text": [
      " 4\n",
      " 3 2 5 6\n"
     ]
    },
    {
     "name": "stdout",
     "output_type": "stream",
     "text": [
      "Array is sorted in 1 swaps.\n",
      "First Element: 2\n",
      "Last Element: 6\n"
     ]
    }
   ],
   "source": [
    "n = int(input().strip())\n",
    "a = list(map(int, input().strip().split(' ')))\n",
    "#trying a different method using while and break \n",
    "swaps = 0\n",
    "not_sorted  = True\n",
    "while not_sorted:\n",
    "    for i in range(n-1):\n",
    "        if a[i] > a[i+1]:\n",
    "            swaps += 1\n",
    "            a[i], a[i+1] = a[i+1], a[i]\n",
    "            break\n",
    "        if i == n-2:\n",
    "            not_sorted = False\n",
    "            \n",
    "print('Array is sorted in {} swaps.'.format(swaps))\n",
    "print('First Element: {}'.format(a[0]))\n",
    "print('Last Element: {}'.format(a[-1]))"
   ]
  },
  {
   "cell_type": "code",
   "execution_count": 9,
   "metadata": {},
   "outputs": [
    {
     "name": "stdin",
     "output_type": "stream",
     "text": [
      " 5\n",
      " 5 23 9 4 9\n"
     ]
    },
    {
     "name": "stdout",
     "output_type": "stream",
     "text": [
      "Array is sorted in 5 swaps.\n",
      "First Element: 4\n",
      "Last Element: 23\n"
     ]
    }
   ],
   "source": [
    "#yet another slightly different from above\n",
    "n = int(input().strip())\n",
    "a = list(map(int, input().strip().split(' ')))\n",
    "\n",
    "swaps = 0\n",
    "while True:\n",
    "    for i in range(n-1):\n",
    "        if a[i] > a[i+1]:\n",
    "            swaps += 1\n",
    "            a[i], a[i+1] = a[i+1], a[i]\n",
    "            break\n",
    "    else:\n",
    "        break\n",
    "print('Array is sorted in {} swaps.'.format(swaps))\n",
    "print('First Element: {}'.format(a[0]))\n",
    "print('Last Element: {}'.format(a[-1]))"
   ]
  },
  {
   "cell_type": "markdown",
   "metadata": {},
   "source": [
    "### Find Pairs\n",
    "\n",
    "#### [Task](https://www.hackerrank.com/challenges/30-sorting/problem)\n",
    "Given an array, ***a***, find the pairs of numbers that are additive inverses (the sum of the pairs adds to zero):\n",
    "\n",
    "input: \n",
    "``` python\n",
    "a = [1,5,3,7,2,-2,-1,2,-3]\n",
    "```\n",
    "output:\n",
    "``` python\n",
    "[(1,-1), (3,-3), (2,-2)]\n",
    "```"
   ]
  },
  {
   "cell_type": "code",
   "execution_count": 4,
   "metadata": {},
   "outputs": [
    {
     "data": {
      "text/plain": [
       "[(3, -3), (2, -2), (1, -1)]"
      ]
     },
     "execution_count": 4,
     "metadata": {},
     "output_type": "execute_result"
    }
   ],
   "source": [
    "a =[1,5,-3,7,2,-2,-1,2,3]\n",
    "a_copy = a.copy()\n",
    "a_copy.sort()\n",
    "a_copy.reverse()\n",
    "pairs = []\n",
    "for i in range(len(a_copy)):\n",
    "    for j in a_copy[i:]:\n",
    "        if a_copy[i] == - (j):\n",
    "            pairs.append((a_copy[i], j))\n",
    "            a_copy.remove(j)\n",
    "            break\n",
    "pairs  "
   ]
  },
  {
   "cell_type": "code",
   "execution_count": 5,
   "metadata": {
    "scrolled": true
   },
   "outputs": [
    {
     "name": "stdout",
     "output_type": "stream",
     "text": [
      "Help on class list in module builtins:\n",
      "\n",
      "class list(object)\n",
      " |  list() -> new empty list\n",
      " |  list(iterable) -> new list initialized from iterable's items\n",
      " |  \n",
      " |  Methods defined here:\n",
      " |  \n",
      " |  __add__(self, value, /)\n",
      " |      Return self+value.\n",
      " |  \n",
      " |  __contains__(self, key, /)\n",
      " |      Return key in self.\n",
      " |  \n",
      " |  __delitem__(self, key, /)\n",
      " |      Delete self[key].\n",
      " |  \n",
      " |  __eq__(self, value, /)\n",
      " |      Return self==value.\n",
      " |  \n",
      " |  __ge__(self, value, /)\n",
      " |      Return self>=value.\n",
      " |  \n",
      " |  __getattribute__(self, name, /)\n",
      " |      Return getattr(self, name).\n",
      " |  \n",
      " |  __getitem__(...)\n",
      " |      x.__getitem__(y) <==> x[y]\n",
      " |  \n",
      " |  __gt__(self, value, /)\n",
      " |      Return self>value.\n",
      " |  \n",
      " |  __iadd__(self, value, /)\n",
      " |      Implement self+=value.\n",
      " |  \n",
      " |  __imul__(self, value, /)\n",
      " |      Implement self*=value.\n",
      " |  \n",
      " |  __init__(self, /, *args, **kwargs)\n",
      " |      Initialize self.  See help(type(self)) for accurate signature.\n",
      " |  \n",
      " |  __iter__(self, /)\n",
      " |      Implement iter(self).\n",
      " |  \n",
      " |  __le__(self, value, /)\n",
      " |      Return self<=value.\n",
      " |  \n",
      " |  __len__(self, /)\n",
      " |      Return len(self).\n",
      " |  \n",
      " |  __lt__(self, value, /)\n",
      " |      Return self<value.\n",
      " |  \n",
      " |  __mul__(self, value, /)\n",
      " |      Return self*value.\n",
      " |  \n",
      " |  __ne__(self, value, /)\n",
      " |      Return self!=value.\n",
      " |  \n",
      " |  __new__(*args, **kwargs) from builtins.type\n",
      " |      Create and return a new object.  See help(type) for accurate signature.\n",
      " |  \n",
      " |  __repr__(self, /)\n",
      " |      Return repr(self).\n",
      " |  \n",
      " |  __reversed__(...)\n",
      " |      L.__reversed__() -- return a reverse iterator over the list\n",
      " |  \n",
      " |  __rmul__(self, value, /)\n",
      " |      Return value*self.\n",
      " |  \n",
      " |  __setitem__(self, key, value, /)\n",
      " |      Set self[key] to value.\n",
      " |  \n",
      " |  __sizeof__(...)\n",
      " |      L.__sizeof__() -- size of L in memory, in bytes\n",
      " |  \n",
      " |  append(...)\n",
      " |      L.append(object) -> None -- append object to end\n",
      " |  \n",
      " |  clear(...)\n",
      " |      L.clear() -> None -- remove all items from L\n",
      " |  \n",
      " |  copy(...)\n",
      " |      L.copy() -> list -- a shallow copy of L\n",
      " |  \n",
      " |  count(...)\n",
      " |      L.count(value) -> integer -- return number of occurrences of value\n",
      " |  \n",
      " |  extend(...)\n",
      " |      L.extend(iterable) -> None -- extend list by appending elements from the iterable\n",
      " |  \n",
      " |  index(...)\n",
      " |      L.index(value, [start, [stop]]) -> integer -- return first index of value.\n",
      " |      Raises ValueError if the value is not present.\n",
      " |  \n",
      " |  insert(...)\n",
      " |      L.insert(index, object) -- insert object before index\n",
      " |  \n",
      " |  pop(...)\n",
      " |      L.pop([index]) -> item -- remove and return item at index (default last).\n",
      " |      Raises IndexError if list is empty or index is out of range.\n",
      " |  \n",
      " |  remove(...)\n",
      " |      L.remove(value) -> None -- remove first occurrence of value.\n",
      " |      Raises ValueError if the value is not present.\n",
      " |  \n",
      " |  reverse(...)\n",
      " |      L.reverse() -- reverse *IN PLACE*\n",
      " |  \n",
      " |  sort(...)\n",
      " |      L.sort(key=None, reverse=False) -> None -- stable sort *IN PLACE*\n",
      " |  \n",
      " |  ----------------------------------------------------------------------\n",
      " |  Data and other attributes defined here:\n",
      " |  \n",
      " |  __hash__ = None\n",
      "\n"
     ]
    }
   ],
   "source": [
    "help(list)"
   ]
  },
  {
   "cell_type": "markdown",
   "metadata": {},
   "source": [
    "Useful python list functions/methods\n",
    "- L.append() -> appends object to end\n",
    "- L.count() -> integer, return number of occurences of value\n",
    "- L.extend() -> None, extend list L by appending elements from the iterable\n",
    "- L.pop([index])-> item, remove & return item at index (default last) Raises IndexError if list is empty/index is out of range\n",
    "- L.remove(value) remove first occurence of value, raises ValueError if value is not present\n",
    "- L.reverse() reverse *IN PLACE*\n",
    "- L.sort() stable sort *IN PLACE*\n",
    "- L.insert(index, object) insert object before index\n",
    "- L.index(value, [start, [stop]]) -> integer, return first index of value, raises ValueError if the value is not present\n",
    "- L.copy() -> list, a shallow copy of L"
   ]
  },
  {
   "cell_type": "markdown",
   "metadata": {},
   "source": [
    "### Find Largest Number\n",
    "\n",
    "### [Task]()\n",
    "Given a list of non negative integers, arrange them such that they form the largest number.\n",
    "\n",
    "``` python\n",
    "Input: [10,2]\n",
    "Output: \"210\"\n",
    "    \n",
    "Input: [3,30,34,5,9]\n",
    "Output: \"9534330\"\n",
    "```\n",
    "\n",
    "the return value should be a string"
   ]
  },
  {
   "cell_type": "code",
   "execution_count": 7,
   "metadata": {},
   "outputs": [],
   "source": [
    "#The sort routines are guaranteed to use __lt__() when making comparisons between two objects.\n",
    "#So, it is easy to add a standard sort order to a class by defining an __lt__() lessthan method\n",
    "class largerNum(str):\n",
    "    def __lt__(x,y): \n",
    "        return x+y < y+x\n",
    "\n",
    "def largestNum(nums:[]) -> str:\n",
    "    sorted_nums = sorted(map(str, nums), key=largerNum, reverse=True)\n",
    "    return '0' if sum(nums) == 0 else ''.join(sorted_nums)   "
   ]
  },
  {
   "cell_type": "code",
   "execution_count": 8,
   "metadata": {},
   "outputs": [
    {
     "data": {
      "text/plain": [
       "'65322120'"
      ]
     },
     "execution_count": 8,
     "metadata": {},
     "output_type": "execute_result"
    }
   ],
   "source": [
    "largestNum([6,3,5,2,20,21])"
   ]
  },
  {
   "cell_type": "markdown",
   "metadata": {},
   "source": [
    "### Sum It\n",
    "### [Task]()\n",
    "Given an array of integers nums and an integer target, return indices of the two numbers such that they add up to target.\n",
    "\n",
    "You may assume that each input would have exactly one solution, and you may not use the same element twice.\n",
    "\n",
    "You can return the answer in any order.\n",
    "\n",
    " \n",
    "\n",
    "Example 1:\n",
    "\n",
    "``` python\n",
    "Input: nums = [2,7,11,15], target = 9\n",
    "Output: [0,1]\n",
    "```    \n",
    "Output: Because nums[0] + nums[1] == 9, we return [0, 1]."
   ]
  },
  {
   "cell_type": "code",
   "execution_count": 45,
   "metadata": {},
   "outputs": [],
   "source": [
    "#brute force\n",
    "class solution:\n",
    "    def sumTwo(self, nums: [int], target: int) -> [int]:\n",
    "        n = len(nums)\n",
    "        for i in range(n-1):\n",
    "            for j in range(i+1, n):\n",
    "                if nums[i] + nums[j] == target:\n",
    "                    return [i,j]\n",
    "            "
   ]
  },
  {
   "cell_type": "code",
   "execution_count": 47,
   "metadata": {},
   "outputs": [],
   "source": [
    "test_1 = solution()"
   ]
  },
  {
   "cell_type": "code",
   "execution_count": 48,
   "metadata": {},
   "outputs": [
    {
     "data": {
      "text/plain": [
       "[0, 2]"
      ]
     },
     "execution_count": 48,
     "metadata": {},
     "output_type": "execute_result"
    }
   ],
   "source": [
    "test_1.sumTwo([1,7,4,5,3], 5)"
   ]
  },
  {
   "cell_type": "code",
   "execution_count": 49,
   "metadata": {},
   "outputs": [],
   "source": [
    "class solution:\n",
    "    def sumTwo(self, nums: [int], target: int) -> [int]:\n",
    "        for i, num in enumerate(nums):\n",
    "            if (target - num) in nums[i+1:]:\n",
    "                return [i, nums.index(target - num, i+1)]"
   ]
  },
  {
   "cell_type": "code",
   "execution_count": 50,
   "metadata": {},
   "outputs": [],
   "source": [
    "test_1 = solution()"
   ]
  },
  {
   "cell_type": "code",
   "execution_count": 51,
   "metadata": {},
   "outputs": [
    {
     "data": {
      "text/plain": [
       "[0, 2]"
      ]
     },
     "execution_count": 51,
     "metadata": {},
     "output_type": "execute_result"
    }
   ],
   "source": [
    "test_1.sumTwo([1,7,4,5,3], 5)"
   ]
  },
  {
   "cell_type": "markdown",
   "metadata": {},
   "source": [
    "### [Task](https://leetcode.com/explore/challenge/card/october-leetcoding-challenge/559/week-1-october-1st-october-7th/)\n",
    "\n",
    "You have a RecentCounter class which counts the number of recent requests within a certain time frame.\n",
    "\n",
    "Implement the RecentCounter class:\n",
    "\n",
    "- RecentCounter() Initializes the counter with zero recent requests.\n",
    "- int ping(int t) Adds a new request at time t, where t represents some time in milliseconds, and returns the number of requests that has happened in the past 3000 milliseconds (including the new request). Specifically, return the number of requests that have happened in the inclusive range [t - 3000, t].\n",
    "- It is guaranteed that every call to ping uses a strictly larger value of t than the previous call.\n",
    "\n",
    "``` python\n",
    "Input\n",
    "[\"RecentCounter\", \"ping\", \"ping\", \"ping\", \"ping\"]\n",
    "[[], [1], [100], [3001], [3002]]\n",
    "Output\n",
    "[null, 1, 2, 3, 3]\n",
    "```\n",
    "\n",
    "Explanation:\n",
    "\n",
    "- RecentCounter recentCounter = new RecentCounter();\n",
    "\n",
    "- recentCounter.ping(1);     // requests = [1], range is [-2999,1], return 1\n",
    "\n",
    "- recentCounter.ping(100);   // requests = [1, 100], range is [-2900,100], return 2\n",
    "\n",
    "- recentCounter.ping(3001);  // requests = [1, 100, 3001], range is [1,3001], return 3\n",
    "\n",
    "- recentCounter.ping(3002);  // requests = [1, 100, 3001, 3002], range is [2,3002], return 3"
   ]
  },
  {
   "cell_type": "code",
   "execution_count": 1,
   "metadata": {},
   "outputs": [],
   "source": [
    "class RecentCounter:\n",
    "    def __init__(self, request=[]):\n",
    "        self.requests = []\n",
    "    \n",
    "    def ping(self, t: int) -> int:\n",
    "        self.requests.append(t)\n",
    "        \n",
    "        while self.requests[0] < t-3000:\n",
    "            self.requests.pop(0)\n",
    "        \n",
    "        return len(self.requests)\n"
   ]
  },
  {
   "cell_type": "code",
   "execution_count": 8,
   "metadata": {},
   "outputs": [
    {
     "data": {
      "text/plain": [
       "3"
      ]
     },
     "execution_count": 8,
     "metadata": {},
     "output_type": "execute_result"
    }
   ],
   "source": [
    "test_case_1 = RecentCounter()\n",
    "test_case_1.ping(1)\n",
    "test_case_1.ping(100)\n",
    "test_case_1.ping(3001)\n",
    "test_case_1.ping(3002)"
   ]
  },
  {
   "cell_type": "code",
   "execution_count": 12,
   "metadata": {},
   "outputs": [
    {
     "data": {
      "text/plain": [
       "[2, 2, 2, 3]"
      ]
     },
     "execution_count": 12,
     "metadata": {},
     "output_type": "execute_result"
    }
   ],
   "source": [
    "([2]*3)+[3]"
   ]
  },
  {
   "cell_type": "code",
   "execution_count": 3,
   "metadata": {},
   "outputs": [],
   "source": [
    "import collections\n",
    "class RecentCounter:\n",
    "    def __init__(self, request=[]):\n",
    "        self.requests = collections.deque()\n",
    "\n",
    "    def ping(self, t: int) -> int:\n",
    "        self.requests.append(t)\n",
    "\n",
    "        while self.requests[0] < t - 3000:\n",
    "            self.requests.popleft()\n",
    "        \n",
    "        return len(self.requests)"
   ]
  },
  {
   "cell_type": "code",
   "execution_count": 4,
   "metadata": {},
   "outputs": [
    {
     "data": {
      "text/plain": [
       "3"
      ]
     },
     "execution_count": 4,
     "metadata": {},
     "output_type": "execute_result"
    }
   ],
   "source": [
    "test_case_1 = RecentCounter()\n",
    "test_case_1.ping(1)\n",
    "test_case_1.ping(100)\n",
    "test_case_1.ping(3001)\n",
    "test_case_1.ping(3002)"
   ]
  },
  {
   "cell_type": "markdown",
   "metadata": {},
   "source": [
    "Input: candidates = [2,3,5], target = 8\n",
    "Output: [[2,2,2,2],[2,3,3],[3,5]]"
   ]
  },
  {
   "cell_type": "code",
   "execution_count": 10,
   "metadata": {},
   "outputs": [],
   "source": [
    "class Solution:\n",
    "    def combinationSum(self, candidates: [int], target: int) -> [[int]]:\n",
    "        dp = [[[]]] + [[] for _ in range(target)]\n",
    "        for candidate in candidates:\n",
    "            for i in range(candidate,target+1):\n",
    "                dp[i] += [substring + [candidate] for substring in dp[i-candidate]]\n",
    "        return dp[target]   \n"
   ]
  },
  {
   "cell_type": "code",
   "execution_count": 11,
   "metadata": {},
   "outputs": [
    {
     "data": {
      "text/plain": [
       "[[2, 2, 2, 2], [2, 3, 3], [3, 5]]"
      ]
     },
     "execution_count": 11,
     "metadata": {},
     "output_type": "execute_result"
    }
   ],
   "source": [
    "test_1 = Solution()\n",
    "test_1.combinationSum([2,3,5], target=8)"
   ]
  },
  {
   "cell_type": "code",
   "execution_count": 8,
   "metadata": {},
   "outputs": [],
   "source": [
    "def removeCoveredIntervals(intervals: [[int]]) -> int:\n",
    "    ret = len(intervals)\n",
    "    intervals = sorted(intervals, key=lambda x: x[0], reverse=True)\n",
    "    for i, interval in enumerate(intervals):\n",
    "        for j in range(i+1, len(intervals)):\n",
    "            if (intervals[i][0] >= intervals[j][0]) and (intervals[i][1] <= intervals[j][1]):\n",
    "                ret -= 1\n",
    "                break\n",
    "        \n",
    "    return ret"
   ]
  },
  {
   "cell_type": "markdown",
   "metadata": {},
   "source": [
    "### Binary in python\n",
    "\n",
    "### [Task](https://leetcode.com/explore/challenge/card/october-leetcoding-challenge/559/week-1-october-1st-october-7th/3484/)\n",
    "\n",
    "Every non-negative integer N has a binary representation.  For example, 5 can be represented as \"101\" in binary, 11 as \"1011\" in binary, and so on.  Note that except for N = 0, there are no leading zeroes in any binary representation.\n",
    "\n",
    "The complement of a binary representation is the number in binary you get when changing every 1 to a 0 and 0 to a 1.  For example, the complement of \"101\" in binary is \"010\" in binary.\n",
    "\n",
    "For a given number N in base-10, return the complement of it's binary representation as a base-10 integer.\n",
    "\n",
    " \n",
    "\n",
    "``` python\n",
    "Input: 5\n",
    "Output: 2\n",
    "```\n",
    "Explanation: 5 is \"101\" in binary, with complement \"010\" in binary, which is 2 in base-10.\n",
    "    "
   ]
  },
  {
   "cell_type": "code",
   "execution_count": 35,
   "metadata": {},
   "outputs": [],
   "source": [
    "def binaryComplement(N:int) -> int:\n",
    "    bin10 = ''\n",
    "    for i in bin(N)[2:]:\n",
    "        if i == '1':\n",
    "            bin10 += '0'\n",
    "        elif i == '0':\n",
    "            bin10 += '1'\n",
    "    return int(bin10, base=2) "
   ]
  },
  {
   "cell_type": "code",
   "execution_count": 37,
   "metadata": {},
   "outputs": [
    {
     "data": {
      "text/plain": [
       "2"
      ]
     },
     "execution_count": 37,
     "metadata": {},
     "output_type": "execute_result"
    }
   ],
   "source": [
    "binaryComplement(5)"
   ]
  },
  {
   "cell_type": "code",
   "execution_count": 42,
   "metadata": {},
   "outputs": [
    {
     "data": {
      "text/plain": [
       "range(2, 27)"
      ]
     },
     "execution_count": 42,
     "metadata": {},
     "output_type": "execute_result"
    }
   ],
   "source": [
    "range(2, int(729**(1/2)))"
   ]
  },
  {
   "cell_type": "code",
   "execution_count": 48,
   "metadata": {},
   "outputs": [
    {
     "data": {
      "text/plain": [
       "[2, 3, 4]"
      ]
     },
     "execution_count": 48,
     "metadata": {},
     "output_type": "execute_result"
    }
   ],
   "source": [
    "list(range(2, int(16**(0.5))+1))"
   ]
  },
  {
   "cell_type": "code",
   "execution_count": 67,
   "metadata": {},
   "outputs": [
    {
     "name": "stdin",
     "output_type": "stream",
     "text": [
      " 2\n",
      " 3\n",
      " 4\n"
     ]
    },
    {
     "name": "stdout",
     "output_type": "stream",
     "text": [
      "Prime\n",
      "Not prime\n"
     ]
    }
   ],
   "source": [
    "T = int(input().strip())\n",
    "nums = [int(input().strip()) for i in range(T)]\n",
    "def prime_notprime(nums):\n",
    "    for num in nums:\n",
    "        if num in [1, 4, 6, 8, 10, 12, 14]:\n",
    "            print('Not prime')\n",
    "            continue\n",
    "        \n",
    "        elif num in [2, 3, 5, 7, 11, 13]:\n",
    "            print('Prime')\n",
    "            continue\n",
    "        \n",
    "        for i in range(2, int(pow(num, 0.5))+1):\n",
    "            if num%i == 0:\n",
    "                print('Not Prime')\n",
    "                break\n",
    "        else:\n",
    "            print('Prime')\n",
    "\n",
    "prime_notprime(nums)"
   ]
  },
  {
   "cell_type": "markdown",
   "metadata": {},
   "source": [
    "### Binary Search Tree"
   ]
  },
  {
   "cell_type": "code",
   "execution_count": 1,
   "metadata": {},
   "outputs": [],
   "source": [
    "class TreeNode:\n",
    "    def __init__(self, val=0, left=None, right=None):\n",
    "        self.val = val\n",
    "        self.left = left\n",
    "        self.right = right"
   ]
  },
  {
   "cell_type": "code",
   "execution_count": 2,
   "metadata": {},
   "outputs": [],
   "source": [
    "tree1 = TreeNode(7, 4, 9)"
   ]
  },
  {
   "cell_type": "code",
   "execution_count": 6,
   "metadata": {},
   "outputs": [
    {
     "data": {
      "text/plain": [
       "{'val': 7, 'left': 4, 'right': 9}"
      ]
     },
     "execution_count": 6,
     "metadata": {},
     "output_type": "execute_result"
    }
   ],
   "source": [
    "tree1.__dict__"
   ]
  },
  {
   "cell_type": "code",
   "execution_count": 7,
   "metadata": {},
   "outputs": [],
   "source": [
    "tree1 = TreeNode(4, 1, 5)"
   ]
  },
  {
   "cell_type": "code",
   "execution_count": 8,
   "metadata": {},
   "outputs": [
    {
     "data": {
      "text/plain": [
       "{'val': 4, 'left': 1, 'right': 5}"
      ]
     },
     "execution_count": 8,
     "metadata": {},
     "output_type": "execute_result"
    }
   ],
   "source": [
    "tree1.__dict__"
   ]
  },
  {
   "cell_type": "markdown",
   "metadata": {},
   "source": [
    "### Linked List"
   ]
  },
  {
   "cell_type": "code",
   "execution_count": 1,
   "metadata": {},
   "outputs": [],
   "source": [
    "class ListNode:\n",
    "    def __init__(self, val=0, next=None):\n",
    "        self.val = val\n",
    "        self.next = next"
   ]
  },
  {
   "cell_type": "code",
   "execution_count": 2,
   "metadata": {},
   "outputs": [],
   "source": [
    "llist = ListNode(1, 2)"
   ]
  },
  {
   "cell_type": "code",
   "execution_count": 4,
   "metadata": {},
   "outputs": [
    {
     "data": {
      "text/plain": [
       "{'val': 1, 'next': 2}"
      ]
     },
     "execution_count": 4,
     "metadata": {},
     "output_type": "execute_result"
    }
   ],
   "source": [
    "llist.__dict__"
   ]
  },
  {
   "cell_type": "code",
   "execution_count": 11,
   "metadata": {},
   "outputs": [],
   "source": [
    "llist = ListNode(1,2)"
   ]
  },
  {
   "cell_type": "code",
   "execution_count": 12,
   "metadata": {},
   "outputs": [
    {
     "data": {
      "text/plain": [
       "{'val': 1, 'next': 2}"
      ]
     },
     "execution_count": 12,
     "metadata": {},
     "output_type": "execute_result"
    }
   ],
   "source": [
    "llist.__dict__"
   ]
  },
  {
   "cell_type": "code",
   "execution_count": 6,
   "metadata": {},
   "outputs": [
    {
     "ename": "TypeError",
     "evalue": "'ListNode' object is not callable",
     "output_type": "error",
     "traceback": [
      "\u001b[0;31m---------------------------------------------------------------------------\u001b[0m",
      "\u001b[0;31mTypeError\u001b[0m                                 Traceback (most recent call last)",
      "\u001b[0;32m<ipython-input-6-5f6c98953d86>\u001b[0m in \u001b[0;36m<module>\u001b[0;34m\u001b[0m\n\u001b[0;32m----> 1\u001b[0;31m \u001b[0mllist\u001b[0m\u001b[0;34m(\u001b[0m\u001b[0;36m3\u001b[0m\u001b[0;34m,\u001b[0m\u001b[0;36m4\u001b[0m\u001b[0;34m)\u001b[0m\u001b[0;34m\u001b[0m\u001b[0;34m\u001b[0m\u001b[0m\n\u001b[0m",
      "\u001b[0;31mTypeError\u001b[0m: 'ListNode' object is not callable"
     ]
    }
   ],
   "source": [
    "    def rotateRight(self, head: ListNode, k: int) -> ListNode:\n",
    "        n = 0\n",
    "        cur = head\n",
    "        \n",
    "        if head is None:\n",
    "            return head\n",
    "        \n",
    "        while True:\n",
    "            n += 1\n",
    "            if cur.next is not None:\n",
    "                cur = cur.next\n",
    "            else:\n",
    "                cur.next = head\n",
    "                break\n",
    "        \n",
    "        k = k%n\n",
    "        k = n - k - 1\n",
    "        cur = head\n",
    "        while k > 0:\n",
    "            k -= 1\n",
    "            cur = cur.next\n",
    "            \n",
    "        head = cur.next\n",
    "        cur.next = None\n",
    "        return head"
   ]
  },
  {
   "cell_type": "code",
   "execution_count": null,
   "metadata": {},
   "outputs": [],
   "source": [
    "class Solution:\n",
    "    def rotateRight(self, head: ListNode, k: int) -> ListNode:\n",
    "        if not head:\n",
    "            return head\n",
    "        dic={1:head}\n",
    "        length=1\n",
    "        node=head\n",
    "        while node.next:\n",
    "            length+=1\n",
    "            node=node.next\n",
    "            dic[length]=node\n",
    "\n",
    "        rotate=k%length\n",
    "        if not rotate:\n",
    "            return head\n",
    "        dic[length-rotate].next=None\n",
    "        dic[length].next=head\n",
    "        return dic[length-rotate+1]"
   ]
  },
  {
   "cell_type": "markdown",
   "metadata": {},
   "source": [
    "### Buddy Strings\n",
    "\n",
    "### [Task](https://leetcode.com/explore/challenge/card/october-leetcoding-challenge/560/week-2-october-8th-october-14th/3492/)\n",
    "\n",
    "Given two strings A and B of lowercase letters, return true if you can swap two letters in A so the result is equal to B, otherwise, return false.\n",
    "\n",
    "Swapping letters is defined as taking two indices i and j (0-indexed) such that i != j and swapping the characters at A[i] and A[j]. For example, swapping at indices 0 and 2 in \"abcd\" results in \"cbad\".\n",
    "\n",
    "``` python\n",
    "Input: A = \"aaaaaaabc\", B = \"aaaaaaacb\"\n",
    "Output: True\n",
    "```"
   ]
  },
  {
   "cell_type": "code",
   "execution_count": 26,
   "metadata": {},
   "outputs": [
    {
     "ename": "SyntaxError",
     "evalue": "'return' outside function (<ipython-input-26-15bb60f6c817>, line 9)",
     "output_type": "error",
     "traceback": [
      "\u001b[0;36m  File \u001b[0;32m\"<ipython-input-26-15bb60f6c817>\"\u001b[0;36m, line \u001b[0;32m9\u001b[0m\n\u001b[0;31m    return len(store) == 2\u001b[0m\n\u001b[0m    ^\u001b[0m\n\u001b[0;31mSyntaxError\u001b[0m\u001b[0;31m:\u001b[0m 'return' outside function\n"
     ]
    }
   ],
   "source": [
    "A = \"aaaaaaabc\"\n",
    "B = \"aaaaaadcb\"\n",
    "if len(A) == len(B):\n",
    "    if collections.Counter(A) == collections.Counter(B):\n",
    "        store = {}\n",
    "        for i in range(len(A)):\n",
    "            if A[i] != B[i]:\n",
    "                store[i] = A[i]\n",
    "        return len(store) == 2\n",
    "                \n",
    "            \n",
    "        "
   ]
  },
  {
   "cell_type": "code",
   "execution_count": 16,
   "metadata": {},
   "outputs": [
    {
     "data": {
      "text/plain": [
       "{'a', 'b'}"
      ]
     },
     "execution_count": 16,
     "metadata": {},
     "output_type": "execute_result"
    }
   ],
   "source": [
    "set('aaaaaab')"
   ]
  },
  {
   "cell_type": "code",
   "execution_count": 17,
   "metadata": {},
   "outputs": [
    {
     "data": {
      "text/plain": [
       "{'a', 'b'}"
      ]
     },
     "execution_count": 17,
     "metadata": {},
     "output_type": "execute_result"
    }
   ],
   "source": [
    "set('bbbbbba')"
   ]
  },
  {
   "cell_type": "code",
   "execution_count": 4,
   "metadata": {},
   "outputs": [],
   "source": [
    "import collections"
   ]
  },
  {
   "cell_type": "code",
   "execution_count": 3,
   "metadata": {},
   "outputs": [
    {
     "data": {
      "text/plain": [
       "Counter()"
      ]
     },
     "execution_count": 3,
     "metadata": {},
     "output_type": "execute_result"
    }
   ],
   "source": [
    "collections.Counter()"
   ]
  },
  {
   "cell_type": "code",
   "execution_count": 5,
   "metadata": {},
   "outputs": [],
   "source": [
    "A = 'aabcd'"
   ]
  },
  {
   "cell_type": "code",
   "execution_count": 10,
   "metadata": {},
   "outputs": [
    {
     "data": {
      "text/plain": [
       "2"
      ]
     },
     "execution_count": 10,
     "metadata": {},
     "output_type": "execute_result"
    }
   ],
   "source": [
    "collections.Counter(A).most_common(1)[0][1]"
   ]
  },
  {
   "cell_type": "code",
   "execution_count": 1,
   "metadata": {},
   "outputs": [],
   "source": [
    "my_list = [1,2,3,4,5,6,7]"
   ]
  },
  {
   "cell_type": "code",
   "execution_count": 3,
   "metadata": {},
   "outputs": [
    {
     "data": {
      "text/plain": [
       "[5, 6, 7, 1, 2, 3, 4]"
      ]
     },
     "execution_count": 3,
     "metadata": {},
     "output_type": "execute_result"
    }
   ],
   "source": [
    "my_list[4:]+ my_list[:4]"
   ]
  },
  {
   "cell_type": "code",
   "execution_count": 4,
   "metadata": {},
   "outputs": [],
   "source": [
    "my_list = my_list[3:]+my_list[:3]"
   ]
  },
  {
   "cell_type": "code",
   "execution_count": 5,
   "metadata": {},
   "outputs": [
    {
     "data": {
      "text/plain": [
       "[4, 5, 6, 7, 1, 2, 3]"
      ]
     },
     "execution_count": 5,
     "metadata": {},
     "output_type": "execute_result"
    }
   ],
   "source": [
    "my_list"
   ]
  },
  {
   "cell_type": "code",
   "execution_count": 6,
   "metadata": {},
   "outputs": [
    {
     "data": {
      "text/plain": [
       "[4, 5, 6, 7, 1, 2, 3]"
      ]
     },
     "execution_count": 6,
     "metadata": {},
     "output_type": "execute_result"
    }
   ],
   "source": [
    "my_list[:]"
   ]
  },
  {
   "cell_type": "code",
   "execution_count": 2,
   "metadata": {},
   "outputs": [
    {
     "data": {
      "text/plain": [
       "['AAAAACCCCC', 'CCCCCAAAAA']"
      ]
     },
     "execution_count": 2,
     "metadata": {},
     "output_type": "execute_result"
    }
   ],
   "source": [
    "s = \"AAAAACCCCCAAAAACCCCCCAAAAAGGGTTT\"\n",
    "reps = {}\n",
    "for i in range(0, len(s)-10):\n",
    "    if s.rfind(s[i:i+10], i+1) > -1:\n",
    "        reps[s[i:i+10]] = s.rfind(s[i:i+10], i+1)\n",
    "list(set(reps.keys()))        "
   ]
  },
  {
   "cell_type": "code",
   "execution_count": 1,
   "metadata": {},
   "outputs": [],
   "source": [
    "import collections"
   ]
  },
  {
   "cell_type": "code",
   "execution_count": 6,
   "metadata": {},
   "outputs": [],
   "source": [
    "a, b = collections.Counter([1,2,1,4,1,5,6]).most_common(1)[0]"
   ]
  },
  {
   "cell_type": "code",
   "execution_count": 7,
   "metadata": {},
   "outputs": [
    {
     "data": {
      "text/plain": [
       "1"
      ]
     },
     "execution_count": 7,
     "metadata": {},
     "output_type": "execute_result"
    }
   ],
   "source": [
    "c, d = collections.Counter([5,1,4,1,3,1,1]).most_common(1)[0]"
   ]
  },
  {
   "cell_type": "code",
   "execution_count": 8,
   "metadata": {},
   "outputs": [
    {
     "data": {
      "text/plain": [
       "3"
      ]
     },
     "execution_count": 8,
     "metadata": {},
     "output_type": "execute_result"
    }
   ],
   "source": [
    "for i in range(n):\n",
    "    if (A[i] != a):\n",
    "        if B[i] != a:\n",
    "            return -1\n",
    "return n - max(b, d)"
   ]
  },
  {
   "cell_type": "code",
   "execution_count": 9,
   "metadata": {},
   "outputs": [],
   "source": [
    "def minDominoRotations(A: [], B: []) -> int:\n",
    "    n = len(A)\n",
    "    a, b = collections.Counter(A).most_common(1)[0]\n",
    "    c, d = collections.Counter(B).most_common(1)[0]\n",
    "    \n",
    "    if b > d:\n",
    "        for i in range(n):\n",
    "            if A[i] != a:\n",
    "                if B[i] != a:\n",
    "                    return -1\n",
    "                continue\n",
    "    else:\n",
    "        for i in range(n):\n",
    "            if B[i] != c:\n",
    "                if A[i] != c:\n",
    "                    return -1\n",
    "                continue\n",
    "    \n",
    "    return n - max(b,d)        "
   ]
  },
  {
   "cell_type": "code",
   "execution_count": 11,
   "metadata": {},
   "outputs": [
    {
     "data": {
      "text/plain": [
       "2"
      ]
     },
     "execution_count": 11,
     "metadata": {},
     "output_type": "execute_result"
    }
   ],
   "source": [
    "minDominoRotations([2,1,2,4,2,2],[5,2,6,2,3,2])"
   ]
  },
  {
   "cell_type": "code",
   "execution_count": null,
   "metadata": {},
   "outputs": [],
   "source": []
  }
 ],
 "metadata": {
  "kernelspec": {
   "display_name": "Python 3",
   "language": "python",
   "name": "python3"
  },
  "language_info": {
   "codemirror_mode": {
    "name": "ipython",
    "version": 3
   },
   "file_extension": ".py",
   "mimetype": "text/x-python",
   "name": "python",
   "nbconvert_exporter": "python",
   "pygments_lexer": "ipython3",
   "version": "3.7.6"
  }
 },
 "nbformat": 4,
 "nbformat_minor": 4
}
