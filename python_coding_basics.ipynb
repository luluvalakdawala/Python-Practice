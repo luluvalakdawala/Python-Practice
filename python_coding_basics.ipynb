{
 "cells": [
  {
   "cell_type": "markdown",
   "metadata": {},
   "source": [
    "### [Ternary Operators](https://book.pythontips.com/en/latest/ternary_operators.html)\n",
    "Ternary operators are more commonly known as conditional expressions in Python. These operators evaluate something based on a condition being true or not. \n",
    "\n",
    "\n",
    "\n",
    "```python\n",
    "Blueprint:\n",
    "\"value_if_true\" if condition else \"value_if_false\"\n",
    "\n",
    "\n",
    "\n",
    "Example:\n",
    "\n",
    "is_nice = True\n",
    "state = \"nice\" if is_nice else \"not nice\"\n",
    "```"
   ]
  },
  {
   "cell_type": "markdown",
   "metadata": {},
   "source": [
    "#### [Task](https://www.hackerrank.com/challenges/30-conditional-statements/problem)\n",
    "Given an integer,***n***, perform the following conditional actions:\n",
    "\n",
    "- If ***n*** is odd, print ***Weird***\n",
    "- If ***n*** is even and in the inclusive range of 2 to 5, print Not ***Weird***\n",
    "- If ***n*** is even and in the inclusive range of 6 to 20, print ***Weird***\n",
    "- If ***n*** is even and greater than 20, print ***Not Weird***"
   ]
  },
  {
   "cell_type": "code",
   "execution_count": 3,
   "metadata": {},
   "outputs": [
    {
     "name": "stdin",
     "output_type": "stream",
     "text": [
      " 24\n"
     ]
    },
    {
     "name": "stdout",
     "output_type": "stream",
     "text": [
      "Not Weird\n"
     ]
    }
   ],
   "source": [
    "n = int(input())\n",
    "print('Weird' if n % 2 or (5 < n < 21) else 'Not Weird') #example of ternary operator"
   ]
  },
  {
   "cell_type": "markdown",
   "metadata": {},
   "source": [
    "### [Class vs. Instance](https://github.com/luluvalakdawala/dsc-object-oriented-attributes-with-functions-lab-sea01-dtsc-ft-051120)\n",
    "*look into the school.py file*\n",
    "\n",
    "#### [Task](https://www.hackerrank.com/challenges/30-class-vs-instance/problem)\n",
    "Write a Person class with an instance variable,***age*** , and a constructor that takes an integer,***initialAge*** , as a parameter. The constructor must assign ***initialAge*** to ***age*** after confirming the argument passed as ***initialAge*** is not negative; if a negative argument is passed as ***initialAge***, the constructor should set ***age*** to ***0*** and print ***Age is not valid, setting age to 0.***. In addition, you must write the following instance methods:\n",
    "\n",
    "1) yearPasses() should increase the ***age*** instance variable by ***1***.\n",
    "\n",
    "2) amIOld() should perform the following conditional actions:\n",
    "- If ***age<13***, print ***You are young.***.\n",
    "- If ***age$\\geq$13*** and ***age<18***, print ***You are a teenager.***.\n",
    "- Otherwise, print ***You are old.***."
   ]
  },
  {
   "cell_type": "code",
   "execution_count": 1,
   "metadata": {},
   "outputs": [],
   "source": [
    "class Person:\n",
    "    def __init__(self, initialAge):\n",
    "        self.age = 0\n",
    "        if initialAge < 0:\n",
    "            print('Age is not valid, setting age to 0')\n",
    "        else:\n",
    "            self.age = initialAge\n",
    "        \n",
    "    def yearPasses(self):\n",
    "        self.age += 1\n",
    "    \n",
    "    def amIOld(self):\n",
    "        if self.age < 13:\n",
    "            print('You are young.')\n",
    "        elif 13<= self.age < 18:\n",
    "            print('You are a teenager.')\n",
    "        else:\n",
    "            print('You are old.')\n",
    "            "
   ]
  },
  {
   "cell_type": "code",
   "execution_count": 2,
   "metadata": {},
   "outputs": [
    {
     "name": "stdin",
     "output_type": "stream",
     "text": [
      " 2\n",
      " 11\n"
     ]
    },
    {
     "name": "stdout",
     "output_type": "stream",
     "text": [
      "You are young.\n",
      "You are a teenager.\n",
      "\n"
     ]
    },
    {
     "name": "stdin",
     "output_type": "stream",
     "text": [
      " 15\n"
     ]
    },
    {
     "name": "stdout",
     "output_type": "stream",
     "text": [
      "You are a teenager.\n",
      "You are old.\n",
      "\n"
     ]
    }
   ],
   "source": [
    "#setting up test case here:\n",
    "# t = number of cases\n",
    "t = int(input())\n",
    "# enter inititalAge t-times\n",
    "for i in range(0, t):\n",
    "    age = int(input())         \n",
    "    p = Person(age)  \n",
    "    p.amIOld()\n",
    "    #lapse of three years, age increses\n",
    "    for j in range(0, 3):\n",
    "        p.yearPasses()       \n",
    "    p.amIOld()\n",
    "    print(\"\")"
   ]
  },
  {
   "cell_type": "markdown",
   "metadata": {},
   "source": [
    "### [Inheritance](https://www.w3schools.com/python/python_inheritance.asp)\n",
    "\n",
    "\n",
    "#### [Task](https://www.hackerrank.com/challenges/30-inheritance/problem)\n",
    "You are given two classes, Person and Student, where Person is the base class and Student is the derived class. Completed code for Person and a declaration for Student are provided for you in the editor. Observe that Student inherits all the properties of Person.\n",
    "\n",
    "Complete the Student class by writing the following:\n",
    "\n",
    "A Student class constructor, which has ***4*** parameters:\n",
    "A string, ***firstName***.\n",
    "A string, ***lastName***.\n",
    "An integer, ***id***.\n",
    "An integer array (or vector) of test scores, ***scores***.\n",
    "A calculate() method that calculates a Student object's average and returns the grade character representative of their calculated average:\n",
    "\n",
    "\n",
    "\n",
    "| Letter |       Average(a)     |\n",
    "|:------:|:--------------------:|\n",
    "|    O   |90 $\\leq$ a $\\leq$ 100|\n",
    "|    E   |   80 $\\leq$ a < 90   |\n",
    "|    A   |   70 $\\leq$ a < 80   |\n",
    "|    P   |   55 $\\leq$ a < 70   |\n",
    "|    D   |   40 $\\leq$ a < 55   |\n",
    "|    T   |           a < 40     |\n"
   ]
  },
  {
   "cell_type": "code",
   "execution_count": 3,
   "metadata": {},
   "outputs": [],
   "source": [
    "class Person: #parent class\n",
    "    def __init__(self, firstName, lastName, idNumber):\n",
    "        self.firstName = firstName\n",
    "        self.lastName = lastName\n",
    "        self.idNumber = idNumber\n",
    "    def printPerson(self):\n",
    "        print(\"Name:\", self.lastName + \",\", self.firstName)\n",
    "        print(\"ID:\", self.idNumber)\n",
    "\n",
    "class Student(Person): #child class, notice parent is passed as an argument\n",
    "    def __init__(self, firstName, lastName, idNumber, scores): #include parameters to mimic parent class +any spcific to child class\n",
    "        super().__init__(firstName, lastName, idNumber) #include same parameters as the parent class\n",
    "        self.scores = scores\n",
    "\n",
    "    #claculate() method for ascertaining student grade\n",
    "    def calculate(self):\n",
    "        score = sum(self.scores)/len(self.scores)\n",
    "        if 90 <= score <= 100:\n",
    "            return 'O'\n",
    "        elif 80 <= score:\n",
    "            return 'E'\n",
    "        elif 70 <= score:\n",
    "            return 'A'\n",
    "        elif 55<= score:\n",
    "            return 'P'\n",
    "        elif 40 <= score:\n",
    "            return 'D'\n",
    "        else:\n",
    "            return 'T'   "
   ]
  },
  {
   "cell_type": "code",
   "execution_count": 4,
   "metadata": {},
   "outputs": [
    {
     "name": "stdin",
     "output_type": "stream",
     "text": [
      " Heraldo Memelli 8135627\n",
      " 2\n",
      " 100 80\n"
     ]
    },
    {
     "name": "stdout",
     "output_type": "stream",
     "text": [
      "Name: Memelli, Heraldo\n",
      "ID: 8135627\n",
      "Grade: O\n"
     ]
    }
   ],
   "source": [
    "#for testing code\n",
    "#Sample Input:\n",
    "#Heraldo Memelli 8135627\n",
    "#2\n",
    "#100 80\n",
    "line = input().split()\n",
    "firstName = line[0]\n",
    "lastName = line[1]\n",
    "idNum = line[2]\n",
    "numScores = int(input()) # not needed for Python\n",
    "scores = list( map(int, input().split()) )\n",
    "s = Student(firstName, lastName, idNum, scores)\n",
    "s.printPerson()\n",
    "print(\"Grade:\", s.calculate())\n",
    "\n",
    "#expected Output:\n",
    "#Name: Memelli, Heraldo\n",
    "#ID: 8135627\n",
    "#Grade: O"
   ]
  },
  {
   "cell_type": "code",
   "execution_count": 1,
   "metadata": {},
   "outputs": [],
   "source": []
  }
 ],
 "metadata": {
  "kernelspec": {
   "display_name": "Python 3",
   "language": "python",
   "name": "python3"
  },
  "language_info": {
   "codemirror_mode": {
    "name": "ipython",
    "version": 3
   },
   "file_extension": ".py",
   "mimetype": "text/x-python",
   "name": "python",
   "nbconvert_exporter": "python",
   "pygments_lexer": "ipython3",
   "version": "3.7.6"
  }
 },
 "nbformat": 4,
 "nbformat_minor": 4
}
